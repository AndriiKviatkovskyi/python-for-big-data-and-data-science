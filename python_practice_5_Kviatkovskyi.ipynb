{
  "nbformat": 4,
  "nbformat_minor": 0,
  "metadata": {
    "colab": {
      "provenance": []
    },
    "kernelspec": {
      "name": "python3",
      "display_name": "Python 3"
    },
    "language_info": {
      "name": "python"
    }
  },
  "cells": [
    {
      "cell_type": "markdown",
      "source": [
        "# I. OOP"
      ],
      "metadata": {
        "id": "5qV_sehzFCTp"
      }
    },
    {
      "cell_type": "markdown",
      "source": [
        "1. (6б). Створіть клас Animal, додайте три атрибути, один з яких має значення за замовчуванням та два методи на свій розсуд."
      ],
      "metadata": {
        "id": "tx_U_hOALyfg"
      }
    },
    {
      "cell_type": "code",
      "source": [
        "class Animal:\n",
        "  def __init__(self, species, name, weight = 300):\n",
        "    self.species = species\n",
        "    self.name = name\n",
        "    self.weight = weight\n",
        "\n",
        "\n",
        "  def print_info(self):\n",
        "    print(f\"{self.name} is a {self.weight}kg {self.species}\")\n",
        "\n",
        "\n",
        "  def is_under_tonne(self):\n",
        "    if self.weight < 1000:\n",
        "      print(f\"{self.name} weights less than a tonne\")\n",
        "    else:\n",
        "      print(f\"{self.name} weights more than a tonne\")\n"
      ],
      "metadata": {
        "id": "-Vf895KaL88N"
      },
      "execution_count": 57,
      "outputs": []
    },
    {
      "cell_type": "markdown",
      "source": [
        "2. (2б). Створіть два обʼєкти цього класу, де один з обʼєктів створюється із дефолтним значенням атрибуту. На одному обʼєкті отримайте значення його атрибуту, а на іншому викличте один з його методів."
      ],
      "metadata": {
        "id": "X_UlOMB0L93w"
      }
    },
    {
      "cell_type": "code",
      "source": [
        "jenny = Animal(species = \"tiger\", name=\"Jenny\")\n",
        "print(f\"Jenny is a {jenny.species}\")\n",
        "bertha = Animal(species = \"elephant\", name = \"Bertha\", weight = 5000)\n",
        "bertha.print_info()"
      ],
      "metadata": {
        "id": "7gBu0ESOMCpG",
        "colab": {
          "base_uri": "https://localhost:8080/"
        },
        "outputId": "39099f87-897a-4f89-b5b2-5fce802894d7"
      },
      "execution_count": null,
      "outputs": [
        {
          "output_type": "stream",
          "name": "stdout",
          "text": [
            "Jenny is a tiger\n",
            "Bertha is a 5000kg elephant\n"
          ]
        }
      ]
    },
    {
      "cell_type": "markdown",
      "source": [
        "3. (5б). Створіть клас, де атрибути мають різні рівні доступу. Спробуйте отримати їхні значення та опишіть результати."
      ],
      "metadata": {
        "id": "HoqSCZt1MHn5"
      }
    },
    {
      "cell_type": "code",
      "source": [
        "class Account:\n",
        "  def __init__(self, name, level, balance):\n",
        "    self.name = name             # public\n",
        "    self._level = level          # protected\n",
        "    self.__balance = balance     # private\n",
        "\n",
        "\n",
        "account = Account(\"master0512\", 56, 6070)\n",
        "print(account.name)\n",
        "print(account._level)\n",
        "print(account.__balance)  # Attribute error - не можемо дістати private поза межами класу\n"
      ],
      "metadata": {
        "id": "r9b3vJxBMSPV",
        "colab": {
          "base_uri": "https://localhost:8080/",
          "height": 211
        },
        "outputId": "730868ea-331f-426c-e3c4-376cf5480504"
      },
      "execution_count": null,
      "outputs": [
        {
          "output_type": "stream",
          "name": "stdout",
          "text": [
            "master0512\n",
            "56\n"
          ]
        },
        {
          "output_type": "error",
          "ename": "AttributeError",
          "evalue": "'Account' object has no attribute '__balance'",
          "traceback": [
            "\u001b[0;31m---------------------------------------------------------------------------\u001b[0m",
            "\u001b[0;31mAttributeError\u001b[0m                            Traceback (most recent call last)",
            "\u001b[0;32m<ipython-input-46-6a54185b0c50>\u001b[0m in \u001b[0;36m<cell line: 11>\u001b[0;34m()\u001b[0m\n\u001b[1;32m      9\u001b[0m \u001b[0mprint\u001b[0m\u001b[0;34m(\u001b[0m\u001b[0maccount\u001b[0m\u001b[0;34m.\u001b[0m\u001b[0mname\u001b[0m\u001b[0;34m)\u001b[0m\u001b[0;34m\u001b[0m\u001b[0;34m\u001b[0m\u001b[0m\n\u001b[1;32m     10\u001b[0m \u001b[0mprint\u001b[0m\u001b[0;34m(\u001b[0m\u001b[0maccount\u001b[0m\u001b[0;34m.\u001b[0m\u001b[0m_level\u001b[0m\u001b[0;34m)\u001b[0m\u001b[0;34m\u001b[0m\u001b[0;34m\u001b[0m\u001b[0m\n\u001b[0;32m---> 11\u001b[0;31m \u001b[0mprint\u001b[0m\u001b[0;34m(\u001b[0m\u001b[0maccount\u001b[0m\u001b[0;34m.\u001b[0m\u001b[0m__balance\u001b[0m\u001b[0;34m)\u001b[0m  \u001b[0;31m# Attribute error - не можемо дістати private поза межами класу\u001b[0m\u001b[0;34m\u001b[0m\u001b[0;34m\u001b[0m\u001b[0m\n\u001b[0m",
            "\u001b[0;31mAttributeError\u001b[0m: 'Account' object has no attribute '__balance'"
          ]
        }
      ]
    },
    {
      "cell_type": "markdown",
      "source": [
        "4. (7б). Як ви розумієте термін self? Для чого використовується метод __init __?"
      ],
      "metadata": {
        "id": "5op2m2vgMSkZ"
      }
    },
    {
      "cell_type": "markdown",
      "source": [
        "self - слово, що посилає на той екземпеляр класу, в якому і використовується. Дозволяє класу звертатись до власних полів та методів.\n",
        "__init__ - ініціалізує сам об'єкт та його поля"
      ],
      "metadata": {
        "id": "DyiPqNRvMasx"
      }
    },
    {
      "cell_type": "markdown",
      "source": [
        "5. (9б). Створіть клас Фігура без атрибутів, з методом get_area для отримання площі фігури, що повертає 0 та __add __, який приймає self та other в якості аргументів, а повертає суму площин фігур self та other."
      ],
      "metadata": {
        "id": "-6X8EGfjMd2y"
      }
    },
    {
      "cell_type": "code",
      "source": [
        "class Figure:\n",
        "\n",
        "\n",
        "  def get_area():\n",
        "    return 0\n",
        "\n",
        "\n",
        "  def __add__(self, other):\n",
        "    return self.get_area() + other.get_area()"
      ],
      "metadata": {
        "id": "4rvO_wYUMaEr"
      },
      "execution_count": null,
      "outputs": []
    },
    {
      "cell_type": "markdown",
      "source": [
        "6. (11б). Створіть 2 дочірніх класи від Фігури: Трикутник та Коло, які мають атрибути, необхідні для розрахунку площин. Визначте метод get_area в кожному з них так, щоби вони розраховували площу в залежності від формули для кожного типу фігури. Створіть обʼєкт класу Трикутник та обʼєкт класу Коло. Виконайте операцію суми за допомогою оператора + між ними."
      ],
      "metadata": {
        "id": "SFcKnnv5Mo_z"
      }
    },
    {
      "cell_type": "code",
      "source": [
        "import math\n",
        "class Triangle(Figure):\n",
        "  def __init__(self, a, b, c):\n",
        "    self.a = a\n",
        "    self.b = b\n",
        "    self.c = c\n",
        "\n",
        "\n",
        "  def get_area(self):\n",
        "    perimeter = self.a + self.b + self.c\n",
        "    area = pow(perimeter / 2 * (perimeter / 2 - self.a) * (perimeter / 2 - self.b) * (perimeter / 2 - self.c), 0.5)\n",
        "    return area\n",
        "\n",
        "class Circle(Figure):\n",
        "  def __init__(self, radius):\n",
        "    self.radius = radius\n",
        "\n",
        "\n",
        "  def get_area(self):\n",
        "    area = math.pi * pow(self.radius, 2)\n",
        "    return area\n",
        "\n",
        "\n",
        "circle = Circle(3)\n",
        "triangle = Triangle(5, 12, 13)\n",
        "circle_area = circle.get_area()\n",
        "triangle_area = triangle.get_area()\n",
        "sum = circle + triangle\n",
        "print(f\"Circle area = {circle_area}\")\n",
        "print(f\"Triangle area = {triangle_area}\")\n",
        "print(f\"Sum of areas = {sum}\")"
      ],
      "metadata": {
        "id": "H3GVNr69Muf3",
        "colab": {
          "base_uri": "https://localhost:8080/"
        },
        "outputId": "5d6f3d96-a8a9-4716-e2a4-f3009df86515"
      },
      "execution_count": null,
      "outputs": [
        {
          "output_type": "stream",
          "name": "stdout",
          "text": [
            "Circle area = 28.274333882308138\n",
            "Triangle area = 30.0\n",
            "Sum of areas = 58.27433388230814\n"
          ]
        }
      ]
    },
    {
      "cell_type": "markdown",
      "source": [
        "7. (3б). Продемонструйте різницю між isinstance та issubclass."
      ],
      "metadata": {
        "id": "HCvR206YMvLK"
      }
    },
    {
      "cell_type": "code",
      "source": [
        "class Furniture:\n",
        "  pass\n",
        "\n",
        "class Chair(Furniture):\n",
        "  pass\n",
        "\n",
        "class Apple:\n",
        "  pass\n",
        "\n",
        "bed = Furniture()\n",
        "chair = Chair()\n",
        "apple = Apple()\n",
        "\n",
        "print(f\"Is bed funtinure? {isinstance(bed, Furniture)}\")\n",
        "print(f\"Is chair funtinure? {isinstance(chair, Furniture)}\")\n",
        "print(f\"Is apple funtinure? {isinstance(apple, Furniture)}\")\n",
        "\n",
        "print(f\"Are all chairs furniture? {issubclass(Chair, Furniture)}\")\n",
        "print(f\"Are all furniture chairs? {issubclass(Furniture, Chair)}\")"
      ],
      "metadata": {
        "id": "L_V1bBvDM0GN",
        "colab": {
          "base_uri": "https://localhost:8080/"
        },
        "outputId": "ae94b683-63a8-467b-f57a-9cea9b06bb94"
      },
      "execution_count": null,
      "outputs": [
        {
          "output_type": "stream",
          "name": "stdout",
          "text": [
            "Is bed funtinure? True\n",
            "Is chair funtinure? True\n",
            "Is apple funtinure? False\n",
            "Are all chairs furniture? True\n",
            "Are all furniture chairs? False\n"
          ]
        }
      ]
    },
    {
      "cell_type": "markdown",
      "source": [
        "8. (13б). Створіть клас BankAccount з приватними атрибутами balance та account_number. Реалізуйте методи поповнення та зняття коштів, забезпечивши належну інкапсуляцію. Підказка: використовуйте декоратори property та setter."
      ],
      "metadata": {
        "id": "jjsaBZ-iM0Qq"
      }
    },
    {
      "cell_type": "code",
      "source": [
        "class BankAccount:\n",
        "  def __init__(self, balance, account_number):\n",
        "    self.__balance = balance\n",
        "    self.__account_number = account_number\n",
        "\n",
        "\n",
        "  @property\n",
        "  def balance(self):\n",
        "    return self.__balance\n",
        "\n",
        "\n",
        "  @balance.setter\n",
        "  def balance(self, new_balance):\n",
        "      self._balance = new_balance\n",
        "\n",
        "\n",
        "  @property\n",
        "  def account_number(self):\n",
        "    return self.__account_number\n",
        "\n",
        "\n",
        "  def replenishment(self, money):\n",
        "    if money >= 0:\n",
        "      self.__balance += money\n",
        "      print(f\"Added {money} to the account. Balance: {self.__balance}\")\n",
        "    else:\n",
        "      print(\"Cannot add negative amount of money to the account!\")\n",
        "\n",
        "\n",
        "  def withdrawal(self, amount):\n",
        "    if amount > self.__balance:\n",
        "      print(\"Not enough money on the account!\")\n",
        "    elif amount >= 0:\n",
        "      self.__balance -= amount\n",
        "      print(f\"Withdrawn {amount} from the account. Balance: {self.__balance}\")\n",
        "    else:\n",
        "      print(\"Cannot withrdraw negative amount of money from the account!\")\n",
        "\n",
        "\n",
        "my_account = BankAccount(balance = 1710, account_number = \"VAK777\")\n",
        "print(f\"Account number: {my_account.account_number}\")\n",
        "print(f\"Balance: {my_account.balance}\")\n",
        "\n",
        "my_account.replenishment(1000)\n",
        "my_account.replenishment(-1000)\n",
        "my_account.withdrawal(5000)\n",
        "my_account.withdrawal(500)"
      ],
      "metadata": {
        "id": "xCvZ7lh8M7YA",
        "colab": {
          "base_uri": "https://localhost:8080/"
        },
        "outputId": "115f489c-af91-44fe-ffc5-6b966ab93f2a"
      },
      "execution_count": null,
      "outputs": [
        {
          "output_type": "stream",
          "name": "stdout",
          "text": [
            "Account number: VAK777\n",
            "Balance: 1710\n",
            "Added 1000 to the account. Balance: 2710\n",
            "Cannot add negative amount of money to the account!\n",
            "Not enough money on the account!\n",
            "Withdrawn 500 from the account. Balance: 2210\n"
          ]
        }
      ]
    },
    {
      "cell_type": "markdown",
      "source": [
        "9. (11б). Створіть клас Library, який містить список об'єктів типу Book. Реалізуйте методи для додавання книги, видалення книги та відображення списку книг."
      ],
      "metadata": {
        "id": "tIzL2SJTM8ft"
      }
    },
    {
      "cell_type": "code",
      "source": [
        "class Book:\n",
        "  def __init__(self, title, author):\n",
        "    self.title = title\n",
        "    self.author = author\n",
        "\n",
        "class Library:\n",
        "  def __init__(self):\n",
        "    self.book_list = []\n",
        "\n",
        "  def add_book(self, book):\n",
        "    if isinstance(book, Book):\n",
        "      self.book_list.append(book)\n",
        "      print(f\"Book named '{book.title}' written by {book.author} was added to the library\")\n",
        "    else:\n",
        "      print(\"Not a book\")\n",
        "\n",
        "\n",
        "  def delete_book(self, title, author):\n",
        "    for book in self.book_list:\n",
        "      if book.title == title and author == author:\n",
        "        self.book_list.remove(book)\n",
        "        print(f\"Book named '{book.title}' written by {book.author} was removed from the library\")\n",
        "        return\n",
        "    print(f\"No such book in the library\")\n",
        "\n",
        "\n",
        "  def show_books(self):\n",
        "    if self.book_list:\n",
        "      print(\"Books in the library: \")\n",
        "      for book in self.book_list:\n",
        "        print(f\"Name: {book.title}, author: {book.author};\")\n",
        "    else:\n",
        "      print(\"The library is empty\")\n",
        "\n",
        "library = Library()\n",
        "library.show_books()\n",
        "book1 = Book(\"Harry Potter and the Chamber of Secrets\", \"Joanne Rowling\")\n",
        "book2 = Book(\"The Poppy War\", \"Rebecca Kuang\")\n",
        "book3 = Book(\"Kobzar\", \"Taras Shevchenko\")\n",
        "library.add_book(book1)\n",
        "library.add_book(book2)\n",
        "library.add_book(book3)\n",
        "library.show_books()\n",
        "library.delete_book(\"The Poppy War\", \"Rebecca Kuang\")\n",
        "library.delete_book(\"Booka\", \"Buka\")\n",
        "library.show_books()"
      ],
      "metadata": {
        "id": "HWxfJKLtNAUZ",
        "colab": {
          "base_uri": "https://localhost:8080/"
        },
        "outputId": "a7f980d0-5aa5-424a-ff66-361f3c776ac0"
      },
      "execution_count": null,
      "outputs": [
        {
          "output_type": "stream",
          "name": "stdout",
          "text": [
            "The library is empty\n",
            "Book named 'Harry Potter and the Chamber of Secrets' written by Joanne Rowling was added to the library\n",
            "Book named 'The Poppy War' written by Rebecca Kuang was added to the library\n",
            "Book named 'Kobzar' written by Taras Shevchenko was added to the library\n",
            "Books in the library: \n",
            "Name: Harry Potter and the Chamber of Secrets, author: Joanne Rowling;\n",
            "Name: The Poppy War, author: Rebecca Kuang;\n",
            "Name: Kobzar, author: Taras Shevchenko;\n",
            "Book named 'The Poppy War' written by Rebecca Kuang was removed from the library\n",
            "No such book in the library\n",
            "Books in the library: \n",
            "Name: Harry Potter and the Chamber of Secrets, author: Joanne Rowling;\n",
            "Name: Kobzar, author: Taras Shevchenko;\n"
          ]
        }
      ]
    },
    {
      "cell_type": "markdown",
      "source": [
        "10. (13б). Створіть клас Person з атрибутами name та age. Створіть ще один клас Employee з такими атрибутами, як department та salary. Створіть клас Manager, який успадковує обидва класи Person та Employee. Продемонструйте використання множинної спадковості, створивши обʼєкт класу Manager та отримавши mro для цього класу."
      ],
      "metadata": {
        "id": "lmV8pAwwNIqu"
      }
    },
    {
      "cell_type": "code",
      "source": [
        "class Person:\n",
        "  def __init__(self, name, age):\n",
        "    self.name = name\n",
        "    self.age = age\n",
        "\n",
        "\n",
        "class Employee:\n",
        "  def __init__(self, department, salary):\n",
        "    self.department = department\n",
        "    self.salary = salary\n",
        "\n",
        "\n",
        "class Manager(Person, Employee):\n",
        "  def __init__(self, name, age, department, salary):\n",
        "    Person.__init__(self, name, age)\n",
        "    Employee.__init__(self, department, salary)\n",
        "\n",
        "\n",
        "manager = Manager(name=\"Andrii\", age=19, department=\"Creative\", salary=100000)\n",
        "print(f\"Name: {manager.name}\")\n",
        "print(f\"Age: {manager.age}\")\n",
        "print(f\"Department: {manager.department}\")\n",
        "print(f\"Salary: {manager.salary}\")\n",
        "print(f\"mro: {Manager.mro()}\")"
      ],
      "metadata": {
        "id": "R49grKlWNPeN",
        "colab": {
          "base_uri": "https://localhost:8080/"
        },
        "outputId": "47ec05ca-c558-4eff-cbbb-d0c186eb605c"
      },
      "execution_count": null,
      "outputs": [
        {
          "output_type": "stream",
          "name": "stdout",
          "text": [
            "Name: Andrii\n",
            "Age: 19\n",
            "Department: Creative\n",
            "Salary: 100000\n",
            "mro: [<class '__main__.Manager'>, <class '__main__.Person'>, <class '__main__.Employee'>, <class 'object'>]\n"
          ]
        }
      ]
    },
    {
      "cell_type": "markdown",
      "source": [
        "# II. Iterator"
      ],
      "metadata": {
        "id": "dIJyUiNBFG8G"
      }
    },
    {
      "cell_type": "markdown",
      "source": [
        "11. (4б). Визначте рядок(str) з 4ма різними за значенням символами. Створіть ітератор на основі цього рядка. Викличте 5 разів функцію next на ітераторі, 4ри перших з них огорніть у ф-цію print()."
      ],
      "metadata": {
        "id": "13vsm0NyKIzL"
      }
    },
    {
      "cell_type": "code",
      "source": [
        "my_str = \"andr\"\n",
        "iterator = iter(my_str)\n",
        "print(next(iterator))\n",
        "print(next(iterator))\n",
        "print(next(iterator))\n",
        "print(next(iterator))\n",
        "next(iterator) # StopIteration - більше немає символів для ітерації"
      ],
      "metadata": {
        "id": "81ntabAkKuz-",
        "colab": {
          "base_uri": "https://localhost:8080/",
          "height": 245
        },
        "outputId": "21091767-4801-40a0-ff3c-19c3a6f91278"
      },
      "execution_count": null,
      "outputs": [
        {
          "output_type": "stream",
          "name": "stdout",
          "text": [
            "a\n",
            "n\n",
            "d\n",
            "r\n"
          ]
        },
        {
          "output_type": "error",
          "ename": "StopIteration",
          "evalue": "",
          "traceback": [
            "\u001b[0;31m---------------------------------------------------------------------------\u001b[0m",
            "\u001b[0;31mStopIteration\u001b[0m                             Traceback (most recent call last)",
            "\u001b[0;32m<ipython-input-54-046f3f874884>\u001b[0m in \u001b[0;36m<cell line: 7>\u001b[0;34m()\u001b[0m\n\u001b[1;32m      5\u001b[0m \u001b[0mprint\u001b[0m\u001b[0;34m(\u001b[0m\u001b[0mnext\u001b[0m\u001b[0;34m(\u001b[0m\u001b[0miterator\u001b[0m\u001b[0;34m)\u001b[0m\u001b[0;34m)\u001b[0m\u001b[0;34m\u001b[0m\u001b[0;34m\u001b[0m\u001b[0m\n\u001b[1;32m      6\u001b[0m \u001b[0mprint\u001b[0m\u001b[0;34m(\u001b[0m\u001b[0mnext\u001b[0m\u001b[0;34m(\u001b[0m\u001b[0miterator\u001b[0m\u001b[0;34m)\u001b[0m\u001b[0;34m)\u001b[0m\u001b[0;34m\u001b[0m\u001b[0;34m\u001b[0m\u001b[0m\n\u001b[0;32m----> 7\u001b[0;31m \u001b[0mnext\u001b[0m\u001b[0;34m(\u001b[0m\u001b[0miterator\u001b[0m\u001b[0;34m)\u001b[0m \u001b[0;31m# StopIteration - більше немає символів для ітерації\u001b[0m\u001b[0;34m\u001b[0m\u001b[0;34m\u001b[0m\u001b[0m\n\u001b[0m",
            "\u001b[0;31mStopIteration\u001b[0m: "
          ]
        }
      ]
    },
    {
      "cell_type": "markdown",
      "source": [
        "А що якщо викликати цю ж функцію на рядку?"
      ],
      "metadata": {
        "id": "aekWHGXOLRsO"
      }
    },
    {
      "cell_type": "code",
      "source": [
        "next(my_str) # TypeError - об'єкт не є ітератором"
      ],
      "metadata": {
        "id": "mxATGsErLV1i",
        "colab": {
          "base_uri": "https://localhost:8080/",
          "height": 141
        },
        "outputId": "f9aa59a4-6d84-4f9d-f208-f8767a0b4b22"
      },
      "execution_count": null,
      "outputs": [
        {
          "output_type": "error",
          "ename": "TypeError",
          "evalue": "'str' object is not an iterator",
          "traceback": [
            "\u001b[0;31m---------------------------------------------------------------------------\u001b[0m",
            "\u001b[0;31mTypeError\u001b[0m                                 Traceback (most recent call last)",
            "\u001b[0;32m<ipython-input-55-6b4b9fb5e90f>\u001b[0m in \u001b[0;36m<cell line: 1>\u001b[0;34m()\u001b[0m\n\u001b[0;32m----> 1\u001b[0;31m \u001b[0mnext\u001b[0m\u001b[0;34m(\u001b[0m\u001b[0mmy_str\u001b[0m\u001b[0;34m)\u001b[0m \u001b[0;31m# TypeError - об'єкт не є ітератором\u001b[0m\u001b[0;34m\u001b[0m\u001b[0;34m\u001b[0m\u001b[0m\n\u001b[0m",
            "\u001b[0;31mTypeError\u001b[0m: 'str' object is not an iterator"
          ]
        }
      ]
    },
    {
      "cell_type": "markdown",
      "source": [
        " 12. (5б). Опишіть своїми словами в одному реченні, як ви розумієте різницю між ітерабельними обʼєктами та ітераторами (можна на прикладі)."
      ],
      "metadata": {
        "id": "XwtMEopwJ4pH"
      }
    },
    {
      "cell_type": "markdown",
      "source": [
        "Ітерабельний об'єкт - об'єкт, по елементам якого можна пройтися за допомогою циклів\n",
        "Ітератор - об'єкт, що реалізує відповідний інтерфейс, має метод next(), за допомогою якого пересувається елементами."
      ],
      "metadata": {
        "id": "-sHrODc3KFn8"
      }
    },
    {
      "cell_type": "markdown",
      "source": [
        "13. (11б). Створіть клас, що має визначений Iterator Protocol та при кожному виклику next повертає літери англійської абетки, поки вони не вичерпаються."
      ],
      "metadata": {
        "id": "E9qJWmNbK8Gl"
      }
    },
    {
      "cell_type": "code",
      "source": [
        "class AlphabetIterator:\n",
        "  def __init__(self):\n",
        "    self.current_letter = ord('a')\n",
        "\n",
        "\n",
        "  def __iter__(self):\n",
        "       return self\n",
        "\n",
        "\n",
        "  def __next__(self):\n",
        "      if self.current_letter <= ord('z'):\n",
        "          letter = chr(self.current_letter)\n",
        "          self.current_letter += 1\n",
        "          return letter\n",
        "      else:\n",
        "          raise StopIteration\n",
        "\n",
        "\n",
        "alphabet_iterator = AlphabetIterator()\n",
        "for x in range(27):\n",
        "  print(next(alphabet_iterator))"
      ],
      "metadata": {
        "id": "cqx-g_RsLo6I",
        "colab": {
          "base_uri": "https://localhost:8080/",
          "height": 749
        },
        "outputId": "990f1379-c8df-4e41-de59-9e6fbfa9cba2"
      },
      "execution_count": 58,
      "outputs": [
        {
          "output_type": "stream",
          "name": "stdout",
          "text": [
            "a\n",
            "b\n",
            "c\n",
            "d\n",
            "e\n",
            "f\n",
            "g\n",
            "h\n",
            "i\n",
            "j\n",
            "k\n",
            "l\n",
            "m\n",
            "n\n",
            "o\n",
            "p\n",
            "q\n",
            "r\n",
            "s\n",
            "t\n",
            "u\n",
            "v\n",
            "w\n",
            "x\n",
            "y\n",
            "z\n"
          ]
        },
        {
          "output_type": "error",
          "ename": "StopIteration",
          "evalue": "",
          "traceback": [
            "\u001b[0;31m---------------------------------------------------------------------------\u001b[0m",
            "\u001b[0;31mStopIteration\u001b[0m                             Traceback (most recent call last)",
            "\u001b[0;32m<ipython-input-58-e0b8dd7c8e91>\u001b[0m in \u001b[0;36m<cell line: 20>\u001b[0;34m()\u001b[0m\n\u001b[1;32m     19\u001b[0m \u001b[0malphabet_iterator\u001b[0m \u001b[0;34m=\u001b[0m \u001b[0mAlphabetIterator\u001b[0m\u001b[0;34m(\u001b[0m\u001b[0;34m)\u001b[0m\u001b[0;34m\u001b[0m\u001b[0;34m\u001b[0m\u001b[0m\n\u001b[1;32m     20\u001b[0m \u001b[0;32mfor\u001b[0m \u001b[0mx\u001b[0m \u001b[0;32min\u001b[0m \u001b[0mrange\u001b[0m\u001b[0;34m(\u001b[0m\u001b[0;36m27\u001b[0m\u001b[0;34m)\u001b[0m\u001b[0;34m:\u001b[0m\u001b[0;34m\u001b[0m\u001b[0;34m\u001b[0m\u001b[0m\n\u001b[0;32m---> 21\u001b[0;31m   \u001b[0mprint\u001b[0m\u001b[0;34m(\u001b[0m\u001b[0mnext\u001b[0m\u001b[0;34m(\u001b[0m\u001b[0malphabet_iterator\u001b[0m\u001b[0;34m)\u001b[0m\u001b[0;34m)\u001b[0m\u001b[0;34m\u001b[0m\u001b[0;34m\u001b[0m\u001b[0m\n\u001b[0m",
            "\u001b[0;32m<ipython-input-58-e0b8dd7c8e91>\u001b[0m in \u001b[0;36m__next__\u001b[0;34m(self)\u001b[0m\n\u001b[1;32m     14\u001b[0m           \u001b[0;32mreturn\u001b[0m \u001b[0mletter\u001b[0m\u001b[0;34m\u001b[0m\u001b[0;34m\u001b[0m\u001b[0m\n\u001b[1;32m     15\u001b[0m       \u001b[0;32melse\u001b[0m\u001b[0;34m:\u001b[0m\u001b[0;34m\u001b[0m\u001b[0;34m\u001b[0m\u001b[0m\n\u001b[0;32m---> 16\u001b[0;31m           \u001b[0;32mraise\u001b[0m \u001b[0mStopIteration\u001b[0m\u001b[0;34m\u001b[0m\u001b[0;34m\u001b[0m\u001b[0m\n\u001b[0m\u001b[1;32m     17\u001b[0m \u001b[0;34m\u001b[0m\u001b[0m\n\u001b[1;32m     18\u001b[0m \u001b[0;34m\u001b[0m\u001b[0m\n",
            "\u001b[0;31mStopIteration\u001b[0m: "
          ]
        }
      ]
    },
    {
      "cell_type": "markdown",
      "source": [
        "# Вітаю! Ви велика(ий) молодець, що впоралась(вся). Похваліть себе та побалуйте чимось приємним. Я Вами пишаюся."
      ],
      "metadata": {
        "id": "Z3E3S_s1Fv7-"
      }
    }
  ]
}