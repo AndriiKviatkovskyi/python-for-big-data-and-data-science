{
  "nbformat": 4,
  "nbformat_minor": 0,
  "metadata": {
    "colab": {
      "provenance": []
    },
    "kernelspec": {
      "name": "python3",
      "display_name": "Python 3"
    },
    "language_info": {
      "name": "python"
    }
  },
  "cells": [
    {
      "cell_type": "markdown",
      "source": [
        "# I. Оператори порівняння та логічні оператори. Умови."
      ],
      "metadata": {
        "id": "qDEi2Pi-4yUC"
      }
    },
    {
      "cell_type": "markdown",
      "source": [
        "1. Створіть цілочисленну змінну зі своїм щасливим або улюбленим числом. Напишіть код, який би автоматизовував наступну задачу.\n",
        "\n",
        "Якщо число парне, помножте його на 2 та виведіть результат на екран.\n",
        "\n",
        "Але якщо число непарне, помножте його на 3 та додайте 1 і виведіть на екран."
      ],
      "metadata": {
        "id": "3v8D4Dkm43Ua"
      }
    },
    {
      "cell_type": "code",
      "execution_count": 1,
      "metadata": {
        "id": "dlVjc-Nu4bmb",
        "colab": {
          "base_uri": "https://localhost:8080/"
        },
        "outputId": "f9160e68-897b-4f4e-f83a-14ef727235a8"
      },
      "outputs": [
        {
          "output_type": "stream",
          "name": "stdout",
          "text": [
            "16\n"
          ]
        }
      ],
      "source": [
        "lucky = 5\n",
        "if lucky % 2 == 0:\n",
        "  lucky *= 2\n",
        "  print(lucky)\n",
        "else:\n",
        "  lucky = lucky * 3 + 1\n",
        "  print(lucky)"
      ]
    },
    {
      "cell_type": "markdown",
      "source": [
        "2. Створіть змінну, що посилається на список. Якщо список пустий, додайте будь-який елемент у кінець списку. Якщо ж ні, то нічого не робіть."
      ],
      "metadata": {
        "id": "H669P0QK5BI_"
      }
    },
    {
      "cell_type": "code",
      "source": [
        "my_list = []\n",
        "if not my_list:\n",
        "  my_list.append('it was empty')\n",
        "print(my_list)"
      ],
      "metadata": {
        "id": "ecWlfra45f6E",
        "colab": {
          "base_uri": "https://localhost:8080/"
        },
        "outputId": "62e27865-ed09-45a6-b972-20222dc6b8fc"
      },
      "execution_count": 4,
      "outputs": [
        {
          "output_type": "stream",
          "name": "stdout",
          "text": [
            "['it was empty']\n"
          ]
        }
      ]
    },
    {
      "cell_type": "markdown",
      "source": [
        "3. Створіть рядок зі своїм імʼям латинкою. Напишіть код, який би автоматизовував наступну задачу.\n",
        "\n",
        "Якщо в імені є літера \"а\"\n",
        " або \"i\", Виведіть на екран повідомлення \"A or I is in the name\".\n",
        "\n",
        "\n",
        "\n",
        "Якщо в імені є літери \"o\" та \"n\", Виведіть на екран повідомлення \"O and N is in the name\".\n",
        "\n",
        "Також якщо в імені немає літери \"о\", але є \"n\", Виведіть на екран повідомлення \"Only N is in the name\".\n",
        "\n",
        "В решті випадків виведіть на екран повідомлення \"There is no N in the name, but there might be O\".\n",
        "\n",
        "Зверніть увагу, що, наприклад, для імені \"Antonina\" буде виведено два повідомлення."
      ],
      "metadata": {
        "id": "h9Y3cMUd5h85"
      }
    },
    {
      "cell_type": "code",
      "source": [
        "my_name = 'Andrii'\n",
        "if 'a' or 'i' in my_name:\n",
        "  print(\"A or I is in the name\")\n",
        "if 'o' and 'n' in my_name:\n",
        "  print(\"O and N is in the name\")\n",
        "elif 'o' not in my_name and 'n' in my_name:\n",
        "  print(\"Only N is in the name\")\n",
        "else:\n",
        "  print(\"There is no N in the name, but there might be O\")"
      ],
      "metadata": {
        "id": "bUH4LUx35u52",
        "colab": {
          "base_uri": "https://localhost:8080/"
        },
        "outputId": "e42429f3-4e5b-4726-b84c-803f2eadd7a7"
      },
      "execution_count": 5,
      "outputs": [
        {
          "output_type": "stream",
          "name": "stdout",
          "text": [
            "A or I is in the name\n",
            "O and N is in the name\n"
          ]
        }
      ]
    },
    {
      "cell_type": "markdown",
      "source": [
        "# II. Comprehensions."
      ],
      "metadata": {
        "id": "wPCXJv4354cU"
      }
    },
    {
      "cell_type": "markdown",
      "source": [
        "4. Створіть список, використовуючи if (не if-else), range та comprehension."
      ],
      "metadata": {
        "id": "jULLW5jN55Pw"
      }
    },
    {
      "cell_type": "code",
      "source": [
        "custom_list = [n for n in range(100) if n % 7 == 3]\n",
        "print(custom_list)"
      ],
      "metadata": {
        "id": "mlZalnVC6W3F",
        "colab": {
          "base_uri": "https://localhost:8080/"
        },
        "outputId": "ff9c7c2c-f363-40be-f432-485bb1f24de7"
      },
      "execution_count": 6,
      "outputs": [
        {
          "output_type": "stream",
          "name": "stdout",
          "text": [
            "[3, 10, 17, 24, 31, 38, 45, 52, 59, 66, 73, 80, 87, 94]\n"
          ]
        }
      ]
    },
    {
      "cell_type": "markdown",
      "source": [
        "5. Створіть словник, використовуючи dict comprehension, що містить if else. Коли слід використовувати comprehensions, а коли їх слід уникати?"
      ],
      "metadata": {
        "id": "LqhEQ4JW6XcC"
      }
    },
    {
      "cell_type": "code",
      "source": [
        "custom_dict = {x: 'odd' if x % 2 == 1 else 'even' for x in range(12)}\n",
        "print(custom_dict)"
      ],
      "metadata": {
        "id": "1yVaFbOs6hta",
        "colab": {
          "base_uri": "https://localhost:8080/"
        },
        "outputId": "fc190081-1c93-4194-d39c-2c4de1807205"
      },
      "execution_count": 9,
      "outputs": [
        {
          "output_type": "stream",
          "name": "stdout",
          "text": [
            "{0: 'even', 1: 'odd', 2: 'even', 3: 'odd', 4: 'even', 5: 'odd', 6: 'even', 7: 'odd', 8: 'even', 9: 'odd', 10: 'even', 11: 'odd'}\n"
          ]
        }
      ]
    },
    {
      "cell_type": "markdown",
      "source": [
        "Comprehensions слід використовувати, коли потрібно створити контейнер на основі простих умов або операцій. Якщо умови та операції складніші, варто використовувати звичайні цикли. Також не варто використовувати Comprehensions при роботі з великими обсягами даних."
      ],
      "metadata": {
        "id": "wbkzNhKq6hzz"
      }
    },
    {
      "cell_type": "markdown",
      "source": [
        "6. Створіть список з рядками та запишіть його у змінну. Створіть ще один список на основі попереднього, де кожен рядок буде містити тільки три перших заглавних символи. Наприклад: ['hello', 'i', 'dont', 'care'] -> ['HEL', 'I', 'DON', 'CAR']. Використання comprehensions обовʼязкове."
      ],
      "metadata": {
        "id": "ZlqB8G3G6lHP"
      }
    },
    {
      "cell_type": "code",
      "source": [
        "words = ['Садок', 'вишневий', 'коло', 'хати']\n",
        "shortened = [w[:3].upper() for w in words]\n",
        "print(shortened)"
      ],
      "metadata": {
        "id": "nw6rz0bR60VC",
        "colab": {
          "base_uri": "https://localhost:8080/"
        },
        "outputId": "87013874-0631-4900-ead3-f54e02d040a5"
      },
      "execution_count": 12,
      "outputs": [
        {
          "output_type": "stream",
          "name": "stdout",
          "text": [
            "['САД', 'ВИШ', 'КОЛ', 'ХАТ']\n"
          ]
        }
      ]
    },
    {
      "cell_type": "markdown",
      "source": [
        "# III. Цикли."
      ],
      "metadata": {
        "id": "Tj573IAH64Fz"
      }
    },
    {
      "cell_type": "markdown",
      "source": [
        "7. Продемонструйте роботу циклу while. Не можна використовувати True для запуску циклу, щоб уникнути безкінечного циклу!"
      ],
      "metadata": {
        "id": "tN_33xdE65H5"
      }
    },
    {
      "cell_type": "code",
      "source": [
        "number = 10\n",
        "while number > 0:\n",
        "  print(number)\n",
        "  number -= 1\n",
        "print(f\"START\")"
      ],
      "metadata": {
        "id": "Kd9FO6yG63P5",
        "colab": {
          "base_uri": "https://localhost:8080/"
        },
        "outputId": "14981487-b048-460b-e3f2-cc2b879faa4c"
      },
      "execution_count": 18,
      "outputs": [
        {
          "output_type": "stream",
          "name": "stdout",
          "text": [
            "10\n",
            "9\n",
            "8\n",
            "7\n",
            "6\n",
            "5\n",
            "4\n",
            "3\n",
            "2\n",
            "1\n",
            "START\n"
          ]
        }
      ]
    },
    {
      "cell_type": "markdown",
      "source": [
        "8. Напишіть програму, яка виведе на екран непарні числа в діапазоні від 0 до 20 включно."
      ],
      "metadata": {
        "id": "x2CmfZO-7pW0"
      }
    },
    {
      "cell_type": "code",
      "source": [
        "for x in range (21):\n",
        "  if x % 2 == 1:\n",
        "    print(x)"
      ],
      "metadata": {
        "id": "aCSRYA6s7tkF",
        "colab": {
          "base_uri": "https://localhost:8080/"
        },
        "outputId": "3e3f6fba-4d77-458f-a643-215b5cd94cf3"
      },
      "execution_count": 15,
      "outputs": [
        {
          "output_type": "stream",
          "name": "stdout",
          "text": [
            "1\n",
            "3\n",
            "5\n",
            "7\n",
            "9\n",
            "11\n",
            "13\n",
            "15\n",
            "17\n",
            "19\n"
          ]
        }
      ]
    },
    {
      "cell_type": "markdown",
      "source": [
        "9. Створіть список з елементами булевого типу або None. Використовуючи цикли, отримайте в результаті список з кортежами, де перший елемент кортежу - індекс(ціле число), а другий елемент - відповідне значення з першого списку.\n",
        "\n",
        "Наприклад, [True, True, None, False] -> [(0, True), (1, True), (2, None), (3, False)]"
      ],
      "metadata": {
        "id": "MDWNocZD7t_B"
      }
    },
    {
      "cell_type": "code",
      "source": [
        "bool_list = [True, True, False, None, False, None, True]\n",
        "result = [(index, value) for index, value in enumerate(bool_list)]\n",
        "print(result)"
      ],
      "metadata": {
        "id": "0EUyjMdp7yfh",
        "colab": {
          "base_uri": "https://localhost:8080/"
        },
        "outputId": "a5f9e488-67c7-458e-cb49-6aab1de50dca"
      },
      "execution_count": 19,
      "outputs": [
        {
          "output_type": "stream",
          "name": "stdout",
          "text": [
            "[(0, True), (1, True), (2, False), (3, None), (4, False), (5, None), (6, True)]\n"
          ]
        }
      ]
    },
    {
      "cell_type": "markdown",
      "source": [
        "10. Створіть словник, де ключі - назви книжок, а значення - їхня кількість у наявності в Вашій міні-бібліотеці. Бібліотека має містити щонайменше 6 книжок (6 пар значень у словнику) і щонайбільше 10 (пар значень). Використовуючи цикли, оновіть словник (не створюйте новий) так, щоби кількість книг у наявності збільшилося на 5 кожної книги. Наприклад,\n",
        "{'It': 3, 'Fault stars': 10, 'Bible': 17, 'Psychological romance': 4, 'Harry Potter': 13} -> {'It': 8, 'Fault stars': 15, 'Bible': 22, 'Psychological romance': 9, 'Harry Potter': 18}"
      ],
      "metadata": {
        "id": "-6XUqlcG7zKs"
      }
    },
    {
      "cell_type": "code",
      "source": [
        "my_library = {'Harry Potter' : 33,\n",
        "         'Poppy War' : 22,\n",
        "         'Lord of the rings' : 7,\n",
        "         '1984' : 5,\n",
        "         'Kobzar' : 10,\n",
        "         'Bible' : 0,\n",
        "         'Dragon Republic' : 3,\n",
        "         }\n",
        "for book in my_library:\n",
        "  my_library[book] += 5\n",
        "print(my_library)"
      ],
      "metadata": {
        "id": "Ceoj9wwb791q",
        "colab": {
          "base_uri": "https://localhost:8080/"
        },
        "outputId": "8648b565-71a5-44f3-a4c2-66a7220a6dc2"
      },
      "execution_count": 20,
      "outputs": [
        {
          "output_type": "stream",
          "name": "stdout",
          "text": [
            "{'Harry Potter': 38, 'Poppy War': 27, 'Lord of the rings': 12, '1984': 10, 'Kobzar': 15, 'Bible': 5, 'Dragon Republic': 8}\n"
          ]
        }
      ]
    },
    {
      "cell_type": "markdown",
      "source": [
        "11. Визначте цілочислену змінну n, що належить проміжку від 4 до 10 включно. Використовуючи цикли, виведіть в консоль наступний патерн.\n",
        "\n",
        "#\n",
        "##\n",
        "###\n",
        "####\n",
        "\n",
        "... #*n\n"
      ],
      "metadata": {
        "id": "QLzyJM288AC7"
      }
    },
    {
      "cell_type": "code",
      "source": [
        "n = 8\n",
        "for i in range(1, n+1):\n",
        "  print(\"#\" * i)"
      ],
      "metadata": {
        "id": "KOpng87s8Duz",
        "colab": {
          "base_uri": "https://localhost:8080/"
        },
        "outputId": "bb9d9bdb-ca03-4ebf-c8f7-ad1e858a91a5"
      },
      "execution_count": 22,
      "outputs": [
        {
          "output_type": "stream",
          "name": "stdout",
          "text": [
            "#\n",
            "##\n",
            "###\n",
            "####\n",
            "#####\n",
            "######\n",
            "#######\n",
            "########\n"
          ]
        }
      ]
    },
    {
      "cell_type": "markdown",
      "source": [
        "12. Гра \"Нумо вгадай\".\n",
        "Розробіть просту гру, де користувач має вгадати випадкове число від 1 до 100. Для генерації випадкового числа використовуйте функцію random.randint(a, b) (тут a та b включно). Для отримання числа з консолі використовуйте функцію input(), результат якої обовʼязково явно приведіть до типу int.\n",
        "\n",
        "Підказка: використовуйте цикл while та умови if-else, щоб повідомити користувачу піказки (напр. \"Більше\", \"Менше\") поки користувач не вгадає. По завершенню виведіть кількість спроб, які знадобилися для вгадування."
      ],
      "metadata": {
        "id": "_bd-bqAT8EHn"
      }
    },
    {
      "cell_type": "code",
      "source": [
        "import random\n",
        "\n",
        "print(\"Шановний гравцю! Вітаю в грі 'Нумо вгадай'! Ваше завдання - вгадати число від 1 до 100. Щасти!\")\n",
        "win_num = random.randint(1, 100)\n",
        "attempts = 0\n",
        "max_attempts = 10\n",
        "\n",
        "while attempts < max_attempts:\n",
        "    user_input = input(\"Спробуйте вгадати число: \")\n",
        "    number = int(user_input)\n",
        "    if number <= 1 and number >= 100:\n",
        "        print(\"Некоректне число. Вам штрафна спроба\")\n",
        "    attempts += 1\n",
        "    if number < win_num:\n",
        "        print(\"Більше\")\n",
        "    elif number > win_num:\n",
        "        print(\"Менше\")\n",
        "    else:\n",
        "        print(f\"Вітаю! Ви перемогли! Вгадали число {win_num} за {attempts} спроб.\")\n",
        "        break\n",
        "else:\n",
        "    print(f\"Ви програли. Число було {win_num}\")"
      ],
      "metadata": {
        "id": "IK9nnxFK8Hkl",
        "colab": {
          "base_uri": "https://localhost:8080/"
        },
        "outputId": "def52441-6df9-4848-fc65-16fedfd71319"
      },
      "execution_count": 28,
      "outputs": [
        {
          "output_type": "stream",
          "name": "stdout",
          "text": [
            "Шановний гравцю! Вітаю в грі 'Нумо вгадай'! Ваше завдання - вгадати число від 1 до 100. Щасти!\n",
            "Спробуйте вгадати число: 50\n",
            "Менше\n",
            "Спробуйте вгадати число: 25\n",
            "Більше\n",
            "Спробуйте вгадати число: 35\n",
            "Більше\n",
            "Спробуйте вгадати число: 42\n",
            "Більше\n",
            "Спробуйте вгадати число: 46\n",
            "Більше\n",
            "Спробуйте вгадати число: 48\n",
            "Вітаю! Ви перемогли! Вгадали число 48 за 6 спроб.\n"
          ]
        }
      ]
    },
    {
      "cell_type": "markdown",
      "source": [
        "# Вітаю! Ви велика(ий) молодець, що впоралась(вся). Похваліть себе та побалуйте чимось приємним. Я Вами пишаюся."
      ],
      "metadata": {
        "id": "PXoXWb7Z8IGi"
      }
    }
  ]
}